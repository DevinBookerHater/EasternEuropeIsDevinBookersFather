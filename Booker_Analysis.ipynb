{
 "cells": [
  {
   "cell_type": "code",
   "execution_count": 146,
   "id": "5080e4a2",
   "metadata": {},
   "outputs": [],
   "source": [
    "import pandas as pd\n",
    "import numpy as np\n",
    "import seaborn as sb\n",
    "import matplotlib.pyplot as plt\n",
    "from scipy import stats\n",
    "import seaborn as sns\n",
    "from numpy import savetxt"
   ]
  },
  {
   "cell_type": "code",
   "execution_count": 147,
   "id": "82006634",
   "metadata": {},
   "outputs": [],
   "source": [
    "\n",
    "df_2022_2023_Reg = pd.read_csv('BookerDownloadedData/Booker_2022-2023.csv')\n",
    "df_2021_2022_Reg = pd.read_csv('BookerDownloadedData/Booker_2021-2022.csv')\n",
    "df_2020_2021_Reg = pd.read_csv('BookerDownloadedData/Booker_2020-2021.csv')\n",
    "df_2019_2020_Reg = pd.read_csv('BookerDownloadedData/Booker_2019-2020.csv')\n",
    "df_2018_2019_Reg = pd.read_csv('BookerDownloadedData/Booker_2018-2019.csv')\n",
    "df_2027_2018_Reg = pd.read_csv('BookerDownloadedData/Booker_2017-2018.csv')\n",
    "df_2016_2017_Reg = pd.read_csv('BookerDownloadedData/Booker_2016-2017.csv')\n",
    "df_2015_2016_Reg = pd.read_csv('BookerDownloadedData/Booker_2015-2016.csv')\n",
    "df_2023_Playoff = pd.read_csv('BookerDownloadedData/Booker_2023Playoff.csv')\n",
    "df_2022_Playoff = pd.read_csv('BookerDownloadedData/Booker_2022Playoff.csv')\n",
    "df_2021_Playoff = pd.read_csv('BookerDownloadedData/Booker_2021Playoff.csv')\n",
    "\n"
   ]
  },
  {
   "cell_type": "code",
   "execution_count": 149,
   "id": "e39a83fc",
   "metadata": {},
   "outputs": [],
   "source": [
    "\n",
    "# List of dataframes to be merged\n",
    "dataframes = [df_2022_2023_Reg, df_2021_2022_Reg, df_2020_2021_Reg, df_2019_2020_Reg, df_2018_2019_Reg, df_2027_2018_Reg, df_2016_2017_Reg, df_2015_2016_Reg, df_2023_Playoff, df_2022_Playoff, df_2021_Playoff]\n",
    "\n",
    "# Merge the dataframes\n",
    "merged_df = pd.concat(dataframes, ignore_index=True)\n",
    "merged_df = merged_df.drop(['Age', 'Unnamed: 5', 'Unnamed: 7', 'Tm', 'G', 'DRB', 'TRB', 'STL', 'BLK', 'TOV', 'ORB', 'FT', 'DRB', 'TOV'], axis=1)\n",
    "\n"
   ]
  },
  {
   "cell_type": "code",
   "execution_count": 150,
   "id": "fcb1d2ea",
   "metadata": {},
   "outputs": [],
   "source": [
    "#Commented out but this saves Devuin Booker's stats\n",
    "\n",
    "# merged_df = merged_df.dropna()\n",
    "\n",
    "# words_to_delete = ['Inactive', 'Did Not Dress', 'Did Not Play']\n",
    "\n",
    "# # Convert 'FG' column to string type\n",
    "# merged_df['FG'] = merged_df['FG'].astype(str)\n",
    "\n",
    "# # Use boolean indexing to filter out rows containing the words\n",
    "# for word in words_to_delete:\n",
    "#     merged_df = merged_df[~merged_df['FG'].str.contains(word)]\n",
    "\n",
    "# merged_df.to_csv('all_booker_stats.csv', index=False)"
   ]
  },
  {
   "cell_type": "code",
   "execution_count": null,
   "id": "859ca4e2",
   "metadata": {},
   "outputs": [],
   "source": []
  },
  {
   "cell_type": "code",
   "execution_count": 151,
   "id": "d9e8a3ac",
   "metadata": {},
   "outputs": [
    {
     "name": "stdout",
     "output_type": "stream",
     "text": [
      "-5.0\n"
     ]
    }
   ],
   "source": [
    "#dates = merged_df[\"Date\"].values.tolist()\n",
    "jokic_games = np.array([545, 548, 601, 467, 473, 501, 425, 431, 308, 343, 235, 249, 263, 286, 168, 176, 82, 155, 33])\n",
    "jokic_scores = []\n",
    "for i in jokic_games:\n",
    "    score = int(merged_df.loc[i, '+/-'])\n",
    "    jokic_scores.append(score)\n",
    "\n",
    "jokic_scores = np.array(jokic_scores)\n",
    "\n",
    "#print(merged_df['+/-'].median())\n",
    "print(np.median(jokic_scores))\n"
   ]
  },
  {
   "cell_type": "code",
   "execution_count": 152,
   "id": "4f589f29",
   "metadata": {},
   "outputs": [
    {
     "name": "stdout",
     "output_type": "stream",
     "text": [
      "7.0\n"
     ]
    }
   ],
   "source": [
    "doncic_games = [307, 251, 280, 300, 306, 163, 181, 125, 0, 23, 64]\n",
    "doncic_scores = []\n",
    "\n",
    "for i in doncic_games:\n",
    "    score = int(merged_df.loc[i, '+/-'])\n",
    "    doncic_scores.append(score)\n",
    "\n",
    "doncic_scores = np.array(doncic_scores)\n",
    "\n",
    "#print(merged_df['+/-'].median())\n",
    "print(np.median(doncic_scores))"
   ]
  },
  {
   "cell_type": "code",
   "execution_count": 153,
   "id": "842d0857",
   "metadata": {},
   "outputs": [
    {
     "name": "stdout",
     "output_type": "stream",
     "text": [
      "7.0\n"
     ]
    }
   ],
   "source": [
    "vucevic_games = [559, 598, 471, 524, 398, 341, 271, 188, 205, 209, 134, 152, 20, 63]\n",
    "vucevic_scores = []\n",
    "\n",
    "for i in vucevic_games:\n",
    "    score = int(merged_df.loc[i, '+/-'])\n",
    "    vucevic_scores.append(score)\n",
    "\n",
    "vucevic_scores = np.array(vucevic_scores)\n",
    "\n",
    "print(np.median(vucevic_scores))"
   ]
  },
  {
   "cell_type": "code",
   "execution_count": 154,
   "id": "3107f297",
   "metadata": {},
   "outputs": [
    {
     "name": "stdout",
     "output_type": "stream",
     "text": [
      "-5.0\n"
     ]
    }
   ],
   "source": [
    "bogdanovic_games = [554, 594, 465, 519, 429, 433, 326, 351, 237, 291, 167, 212, 142, 162, 17]\n",
    "bogdanovic_scores = []\n",
    "\n",
    "for i in bogdanovic_games:\n",
    "    score = int(merged_df.loc[i, '+/-'])\n",
    "    bogdanovic_scores.append(score)\n",
    "\n",
    "vucevic_scores = np.array(bogdanovic_scores)\n",
    "\n",
    "print(np.median(bogdanovic_scores))\n"
   ]
  },
  {
   "cell_type": "code",
   "execution_count": 155,
   "id": "ea2ed4d5",
   "metadata": {},
   "outputs": [
    {
     "name": "stdout",
     "output_type": "stream",
     "text": [
      "-4.0\n"
     ]
    }
   ],
   "source": [
    "sabonis_games =  np.array([457, 482, 517, 535, 429, 433, 326, 351, 277, 199, 172, 122, 153, 19, 58, 66, 72])\n",
    "sabonis_scores = []\n",
    "for i in sabonis_games:\n",
    "    score = int(merged_df.loc[i, '+/-'])\n",
    "    sabonis_scores.append(score)\n",
    "\n",
    "sabonis_scores = np.array(sabonis_scores)\n",
    "\n",
    "#print(merged_df['+/-'].median())\n",
    "print(np.median(sabonis_scores))\n",
    "#print(jokic_scores)"
   ]
  },
  {
   "cell_type": "code",
   "execution_count": 156,
   "id": "5ef128f2",
   "metadata": {},
   "outputs": [],
   "source": [
    "euro_scores = np.concatenate((jokic_scores, doncic_scores, sabonis_scores, vucevic_scores, bogdanovic_scores))"
   ]
  },
  {
   "cell_type": "code",
   "execution_count": 157,
   "id": "c20b39fa",
   "metadata": {},
   "outputs": [],
   "source": [
    "df = merged_df.dropna(subset=['+/-'], how='all')\n",
    "indices_to_drop = [457, 482, 517, 535, 429, 433, 326, 351, 277, 199, 172, 122, 153, 19, 58, 66, 72\n",
    "                  ,307, 251, 280, 300, 306, 163, 181, 125, 0, 23, 64,\n",
    "                  559, 598, 471, 524, 398, 341, 271, 188, 205, 209, 134, 152, 20, 63,\n",
    "                  554, 594, 465, 519, 429, 433, 326, 351, 237, 291, 167, 212, 142, 162, 17,\n",
    "                  584, 600, 480, 498, 394, 434, 251, 280, 286, 181, 95, 96, 125]\n",
    "df = merged_df.drop(indices_to_drop)\n",
    "df = df.dropna()"
   ]
  },
  {
   "cell_type": "code",
   "execution_count": 158,
   "id": "9c3b7825",
   "metadata": {},
   "outputs": [
    {
     "name": "stdout",
     "output_type": "stream",
     "text": [
      "Booker's median +/- is: 0.0\n"
     ]
    }
   ],
   "source": [
    "data = df['+/-']\n",
    "# Convert the data to string type\n",
    "data = [str(value) for value in data]\n",
    "\n",
    "data = [value for value in data if value not in ['Did Not Dress', 'Did Not Play', \"Inactive\"]]\n",
    "data = [float(value) for value in data]\n",
    "data = np.array(data)\n",
    "\n",
    "print(\"Booker's median +/- is:\", np.median(data))"
   ]
  },
  {
   "cell_type": "code",
   "execution_count": 159,
   "id": "1324c607",
   "metadata": {},
   "outputs": [],
   "source": [
    "non_euro_scores = data"
   ]
  },
  {
   "cell_type": "code",
   "execution_count": 160,
   "id": "6c98eddf",
   "metadata": {},
   "outputs": [
    {
     "name": "stdout",
     "output_type": "stream",
     "text": [
      "Devin Booker's 95% Confidence interval +/- scores against Eastern European Players: [ -7.34 , -0.25 ]\n",
      "Devin Booker's 95% Confidence interval +/- scores against other Teams: [ -1.33 , 1.17 ]\n"
     ]
    }
   ],
   "source": [
    "\n",
    "\n",
    "# Calculate the mean and standard deviation for each group\n",
    "mean_euro = np.mean(euro_scores)\n",
    "std_euro = np.std(euro_scores)\n",
    "mean_non_euro = np.mean(non_euro_scores)\n",
    "std_non_euro = np.std(non_euro_scores)\n",
    "\n",
    "# Calculate the 95% confidence interval for each group\n",
    "ci_euro = stats.t.interval(0.95, len(euro_scores) - 1, loc=mean_euro, scale=stats.sem(euro_scores))\n",
    "ci_non_euro = stats.t.interval(0.95, len(non_euro_scores) - 1, loc=mean_non_euro, scale=stats.sem(non_euro_scores))\n",
    "\n",
    "print(\"Devin Booker's 95% Confidence interval +/- scores against Eastern European Players: [\", round(ci_euro[0], 2), \",\", round(ci_euro[1], 2), \"]\")\n",
    "print(\"Devin Booker's 95% Confidence interval +/- scores against other Teams: [\", round(ci_non_euro[0], 2), \",\", round(ci_non_euro[1], 2), \"]\")\n",
    "\n",
    "\n"
   ]
  },
  {
   "cell_type": "code",
   "execution_count": 161,
   "id": "bb9a8737",
   "metadata": {},
   "outputs": [
    {
     "data": {
      "image/png": "[encoded data removed]",
      "text/plain": [
       "<Figure size 640x480 with 1 Axes>"
      ]
     },
     "metadata": {},
     "output_type": "display_data"
    }
   ],
   "source": [
    "# Plotting\n",
    "sns.histplot(euro_scores, bins=10, color='steelblue', alpha=0.7, label='E.European Game +/- ')\n",
    "sns.histplot(non_euro_scores, bins=10, color='salmon', alpha=0.5, label='Regular Game +/-')\n",
    "plt.axvline(ci_euro[0], color='blue', linestyle='--', linewidth=2, label='E.European Game +/- 95% CI')\n",
    "plt.axvline(ci_euro[1], color='blue', linestyle='--', linewidth=2)\n",
    "plt.axvline(ci_non_euro[0], color='red', linestyle='--', linewidth=2, label='Regular Game +/- 95% CI')\n",
    "plt.axvline(ci_non_euro[1], color='red', linestyle='--', linewidth=2)\n",
    "plt.xlabel('Scores')\n",
    "plt.ylabel('Frequency')\n",
    "plt.legend()\n",
    "plt.title('Devin Booker\\'s +/- Scores in Games Against Major Eastern European Players versus Regular Games')\n",
    "plt.tight_layout()  # Improves spacing between subplots\n",
    "plt.savefig('booker.png', dpi=100, bbox_inches='tight')\n",
    "plt.show()\n"
   ]
  },
  {
   "cell_type": "code",
   "execution_count": 162,
   "id": "32efad3f",
   "metadata": {},
   "outputs": [
    {
     "name": "stdout",
     "output_type": "stream",
     "text": [
      "The p-value is 0.03224 which is less than or equal to 0.05\n",
      "There is a significant difference between  Devin Booker's +/- scores against teams with major Eastern European players.\n"
     ]
    }
   ],
   "source": [
    "\n",
    "# Perform a two-sample t-test\n",
    "t_stat, p_value = stats.ttest_ind(euro_scores, non_euro_scores)\n",
    "\n",
    "# Define the significance level\n",
    "alpha = 0.05\n",
    "p_value = round(p_value, 5)\n",
    "\n",
    "# Check the p-value against the significance level\n",
    "if p_value > alpha:\n",
    "    print(\"The p-value is\", p_value, \"which is greater than\", alpha)\n",
    "    print(\"There is no significant difference between Devin Booker's +/- scores against teams with major Eastern European players.\")\n",
    "else:\n",
    "    print(\"The p-value is\", p_value, \"which is less than or equal to\", alpha)\n",
    "    print(\"There is a significant difference between  Devin Booker's +/- scores against teams with major Eastern European players.\")\n",
    "\n"
   ]
  },
  {
   "cell_type": "code",
   "execution_count": 52,
   "id": "2b7a7aa7",
   "metadata": {},
   "outputs": [],
   "source": []
  },
  {
   "cell_type": "code",
   "execution_count": 127,
   "id": "4c668425",
   "metadata": {},
   "outputs": [],
   "source": [
    "merged_df = merged_df.dropna()\n",
    "\n",
    "words_to_delete = ['Inactive', 'Did Not Dress', 'Did Not Play']\n",
    "\n",
    "# Convert 'FG' column to string type\n",
    "merged_df['FG'] = merged_df['FG'].astype(str)\n",
    "\n",
    "# Use boolean indexing to filter out rows containing the words\n",
    "for word in words_to_delete:\n",
    "    merged_df = merged_df[~merged_df['FG'].str.contains(word)]\n",
    "\n",
    "merged_df.to_csv('all_booker_stats.csv', index=False)"
   ]
  }
 ],
 "metadata": {
  "kernelspec": {
   "display_name": "Python 3 (ipykernel)",
   "language": "python",
   "name": "python3"
  },
  "language_info": {
   "codemirror_mode": {
    "name": "ipython",
    "version": 3
   },
   "file_extension": ".py",
   "mimetype": "text/x-python",
   "name": "python",
   "nbconvert_exporter": "python",
   "pygments_lexer": "ipython3",
   "version": "3.11.3"
  }
 },
 "nbformat": 4,
 "nbformat_minor": 5
}
